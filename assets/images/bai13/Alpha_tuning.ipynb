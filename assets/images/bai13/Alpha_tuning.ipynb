{
  "nbformat": 4,
  "nbformat_minor": 0,
  "metadata": {
    "colab": {
      "name": "Alpha_tuning.ipynb",
      "provenance": [],
      "collapsed_sections": []
    },
    "kernelspec": {
      "name": "python3",
      "display_name": "Python 3"
    },
    "language_info": {
      "name": "python"
    }
  },
  "cells": [
    {
      "cell_type": "code",
      "source": [
        "from sklearn.datasets import load_iris\n",
        "import numpy as np\n",
        "import matplotlib.pyplot as plt\n",
        "\n",
        "boston = load_iris()\n",
        "X = boston.data[:,:-2]\n",
        "y = boston.target"
      ],
      "metadata": {
        "id": "0aGqSiF_kPYl"
      },
      "execution_count": null,
      "outputs": []
    },
    {
      "cell_type": "code",
      "source": [
        "features = boston.feature_names[:-2]\n",
        "species = boston.target_names"
      ],
      "metadata": {
        "id": "W7LhwjmWyO1c"
      },
      "execution_count": null,
      "outputs": []
    },
    {
      "cell_type": "code",
      "source": [
        "species"
      ],
      "metadata": {
        "colab": {
          "base_uri": "https://localhost:8080/"
        },
        "id": "5WYw-kvIygwX",
        "outputId": "0ec6159e-2679-4ee5-d694-2c65fa0a88ee"
      },
      "execution_count": null,
      "outputs": [
        {
          "output_type": "execute_result",
          "data": {
            "text/plain": [
              "array(['setosa', 'versicolor', 'virginica'], dtype='<U10')"
            ]
          },
          "metadata": {},
          "execution_count": 23
        }
      ]
    },
    {
      "cell_type": "code",
      "source": [
        "from sklearn.model_selection import train_test_split\n",
        "\n",
        "X_train, X_test, y_train, y_test = train_test_split(X,y,test_size = .2, random_state = 45)"
      ],
      "metadata": {
        "id": "_rvNt7us94Ia"
      },
      "execution_count": null,
      "outputs": []
    },
    {
      "cell_type": "code",
      "source": [
        "from sklearn.tree import DecisionTreeClassifier\n",
        "tree_clf = DecisionTreeClassifier()"
      ],
      "metadata": {
        "id": "eIQiaXFZxImM"
      },
      "execution_count": null,
      "outputs": []
    },
    {
      "cell_type": "code",
      "source": [
        "tree_clf.fit(X_train,y_train)\n",
        "y_train_pred = tree_clf.predict(X_train)\n",
        "y_test_pred = tree_clf.predict(X_test)"
      ],
      "metadata": {
        "id": "heI7M5DLxUnp"
      },
      "execution_count": null,
      "outputs": []
    },
    {
      "cell_type": "code",
      "source": [
        "from sklearn.metrics import accuracy_score\n",
        "print('Training accuracy: ',accuracy_score(y_train,y_train_pred))\n",
        "print('Testing accuracy: ',accuracy_score(y_test,y_test_pred))"
      ],
      "metadata": {
        "colab": {
          "base_uri": "https://localhost:8080/"
        },
        "id": "urc_nZecxflh",
        "outputId": "5f738f88-fc89-4f39-a670-24e02f034525"
      },
      "execution_count": null,
      "outputs": [
        {
          "output_type": "stream",
          "name": "stdout",
          "text": [
            "Training accuracy:  0.95\n",
            "Testing accuracy:  0.6333333333333333\n"
          ]
        }
      ]
    },
    {
      "cell_type": "code",
      "source": [
        "path = tree_clf.cost_complexity_pruning_path(X_train,y_train)\n",
        "alphas = path['ccp_alphas']\n",
        "alphas"
      ],
      "metadata": {
        "colab": {
          "base_uri": "https://localhost:8080/"
        },
        "id": "tU-oL-HVxyTx",
        "outputId": "15c5b722-5c5a-4b7c-bfa0-f47e26c88f53"
      },
      "execution_count": null,
      "outputs": [
        {
          "output_type": "execute_result",
          "data": {
            "text/plain": [
              "array([0.        , 0.00277778, 0.00277778, 0.00324074, 0.00518519,\n",
              "       0.00555556, 0.00555556, 0.00694444, 0.00743464, 0.00868056,\n",
              "       0.01041667, 0.01161038, 0.01230159, 0.01581699, 0.02010944,\n",
              "       0.05683866, 0.06089286, 0.20756944])"
            ]
          },
          "metadata": {},
          "execution_count": 33
        }
      ]
    },
    {
      "cell_type": "code",
      "source": [
        "import seaborn as sns\n",
        "acc_train, acc_test = [],[]\n",
        "for a in alphas:\n",
        "  tree_clf = DecisionTreeClassifier(ccp_alpha=a)\n",
        "  tree_clf.fit(X_train,y_train)\n",
        "  y_train_pred = tree_clf.predict(X_train)\n",
        "  y_test_pred = tree_clf.predict(X_test)\n",
        "  acc_train.append(accuracy_score(y_train,y_train_pred))\n",
        "  acc_test.append(accuracy_score(y_test,y_test_pred))\n",
        "sns.set()\n",
        "plt.figure(figsize=(14,7))\n",
        "sns.lineplot(y = acc_train, x = alphas, label = 'Train accuracy')\n",
        "sns.lineplot(y = acc_test, x = alphas, label = 'Test accuracy')\n",
        "plt.xlabel('Alpha')\n",
        "plt.ylabel('Accuracy')\n",
        "plt.xticks(ticks = np.arange(0.00,0.21,0.01))"
      ],
      "metadata": {
        "colab": {
          "base_uri": "https://localhost:8080/",
          "height": 830
        },
        "id": "HSGp0kX809Cz",
        "outputId": "0d839168-49f6-466e-ed59-90c215627bfe"
      },
      "execution_count": null,
      "outputs": [
        {
          "output_type": "execute_result",
          "data": {
            "text/plain": [
              "([<matplotlib.axis.XTick at 0x7f6d96949e50>,\n",
              "  <matplotlib.axis.XTick at 0x7f6d96949e90>,\n",
              "  <matplotlib.axis.XTick at 0x7f6d9843f810>,\n",
              "  <matplotlib.axis.XTick at 0x7f6d9694d110>,\n",
              "  <matplotlib.axis.XTick at 0x7f6d969cba90>,\n",
              "  <matplotlib.axis.XTick at 0x7f6d96946650>,\n",
              "  <matplotlib.axis.XTick at 0x7f6d96946310>,\n",
              "  <matplotlib.axis.XTick at 0x7f6d9694d510>,\n",
              "  <matplotlib.axis.XTick at 0x7f6d9693e6d0>,\n",
              "  <matplotlib.axis.XTick at 0x7f6d9692e750>,\n",
              "  <matplotlib.axis.XTick at 0x7f6d96912fd0>,\n",
              "  <matplotlib.axis.XTick at 0x7f6d968e9dd0>,\n",
              "  <matplotlib.axis.XTick at 0x7f6d96918450>,\n",
              "  <matplotlib.axis.XTick at 0x7f6d96918990>,\n",
              "  <matplotlib.axis.XTick at 0x7f6d96918ed0>,\n",
              "  <matplotlib.axis.XTick at 0x7f6d968a2450>,\n",
              "  <matplotlib.axis.XTick at 0x7f6d968a2990>,\n",
              "  <matplotlib.axis.XTick at 0x7f6d968a2ed0>,\n",
              "  <matplotlib.axis.XTick at 0x7f6d968aa450>,\n",
              "  <matplotlib.axis.XTick at 0x7f6d968a2610>,\n",
              "  <matplotlib.axis.XTick at 0x7f6d96918510>],\n",
              " <a list of 21 Text major ticklabel objects>)"
            ]
          },
          "metadata": {},
          "execution_count": 46
        },
        {
          "output_type": "display_data",
          "data": {
            "image/png": "[encoded data removed]",
            "text/plain": [
              "<Figure size 1008x504 with 1 Axes>"
            ]
          },
          "metadata": {}
        }
      ]
    },
    {
      "cell_type": "code",
      "source": [
        "import graphviz\n",
        "from sklearn import tree\n",
        "dot_data = tree.export_graphviz(tree_clf, out_file=None, \n",
        "                                feature_names=features,  \n",
        "                                class_names=species,\n",
        "                                rounded=True,\n",
        "                                filled=True)\n",
        "\n",
        "graph = graphviz.Source(dot_data, format=\"png\")\n",
        "graph"
      ],
      "metadata": {
        "colab": {
          "base_uri": "https://localhost:8080/",
          "height": 123
        },
        "id": "k3o626sr0_t5",
        "outputId": "085f331e-64d6-4593-f57e-3b6589b00d46"
      },
      "execution_count": null,
      "outputs": [
        {
          "output_type": "execute_result",
          "data": {
            "text/plain": [
              "<graphviz.files.Source at 0x7f6d9835b6d0>"
            ],
            "image/svg+xml": "<?xml version=\"1.0\" encoding=\"UTF-8\" standalone=\"no\"?>\n<!DOCTYPE svg PUBLIC \"-//W3C//DTD SVG 1.1//EN\"\n \"http://www.w3.org/Graphics/SVG/1.1/DTD/svg11.dtd\">\n<!-- Generated by graphviz version 2.40.1 (20161225.0304)\n -->\n<!-- Title: Tree Pages: 1 -->\n<svg width=\"148pt\" height=\"76pt\"\n viewBox=\"0.00 0.00 148.00 76.00\" xmlns=\"http://www.w3.org/2000/svg\" xmlns:xlink=\"http://www.w3.org/1999/xlink\">\n<g id=\"graph0\" class=\"graph\" transform=\"scale(1 1) rotate(0) translate(4 72)\">\n<title>Tree</title>\n<polygon fill=\"#ffffff\" stroke=\"transparent\" points=\"-4,4 -4,-72 144,-72 144,4 -4,4\"/>\n<!-- 0 -->\n<g id=\"node1\" class=\"node\">\n<title>0</title>\n<path fill=\"#f5fef9\" stroke=\"#000000\" d=\"M128,-68C128,-68 12,-68 12,-68 6,-68 0,-62 0,-56 0,-56 0,-12 0,-12 0,-6 6,0 12,0 12,0 128,0 128,0 134,0 140,-6 140,-12 140,-12 140,-56 140,-56 140,-62 134,-68 128,-68\"/>\n<text text-anchor=\"middle\" x=\"70\" y=\"-52.8\" font-family=\"Helvetica,sans-Serif\" font-size=\"14.00\" fill=\"#000000\">gini = 0.666</text>\n<text text-anchor=\"middle\" x=\"70\" y=\"-37.8\" font-family=\"Helvetica,sans-Serif\" font-size=\"14.00\" fill=\"#000000\">samples = 120</text>\n<text text-anchor=\"middle\" x=\"70\" y=\"-22.8\" font-family=\"Helvetica,sans-Serif\" font-size=\"14.00\" fill=\"#000000\">value = [39, 43, 38]</text>\n<text text-anchor=\"middle\" x=\"70\" y=\"-7.8\" font-family=\"Helvetica,sans-Serif\" font-size=\"14.00\" fill=\"#000000\">class = versicolor</text>\n</g>\n</g>\n</svg>\n"
          },
          "metadata": {},
          "execution_count": 44
        }
      ]
    },
    {
      "cell_type": "code",
      "source": [
        ""
      ],
      "metadata": {
        "id": "MS4yDO1Q1KLr"
      },
      "execution_count": null,
      "outputs": []
    }
  ]
}